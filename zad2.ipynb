import tensorflow as tf
import numpy as np
import matplotlib.pyplot as plt

# Sprawdzenie wersji
print(tf.__version__)

# Wczytanie danych
training_data = np.load('TF_dataset.npz')
inputs = training_data['inputs']
targets = training_data['targets']

# Model 1: Regresja liniowa
model_linear = tf.keras.Sequential([
    tf.keras.layers.Dense(1)
])
model_linear.compile(optimizer='sgd', loss='mean_squared_error')
model_linear.fit(inputs, targets, epochs=100, verbose=1)

# Wizualizacja wyników
predictions = np.squeeze(model_linear.predict(inputs))
targets_squeezed = np.squeeze(targets)

plt.scatter(predictions, targets_squeezed, alpha=0.5)
plt.plot([targets.min(), targets.max()], [targets.min(), targets.max()], color='red')
plt.xlabel('Predictions')
plt.ylabel('Targets')
plt.title('Linear model')
plt.show()

# Model 2: Sieć neuronowa
model_deep = tf.keras.Sequential([
    tf.keras.layers.Dense(5, activation='sigmoid'),
    tf.keras.layers.Dense(5, activation='sigmoid'),
    tf.keras.layers.Dense(1)
])
model_deep.compile(optimizer='sgd', loss='mean_squared_error')
model_deep.fit(inputs, targets, epochs=100, verbose=1)

# Wizualizacja wyników
predictions = np.squeeze(model_deep.predict(inputs))

plt.scatter(predictions, targets_squeezed, alpha=0.5)
plt.plot([targets.min(), targets.max()], [targets.min(), targets.max()], color='red')
plt.xlabel('Predictions')
plt.ylabel('Targets')
plt.title('Deep model')
plt.show()
